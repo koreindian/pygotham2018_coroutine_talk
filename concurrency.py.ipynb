{
 "cells": [
  {
   "cell_type": "code",
   "execution_count": null,
   "metadata": {},
   "outputs": [],
   "source": [
    "talk_title = 'From Coroutines to Concurrency'\n",
    "full_name  = 'Vishal Vivek Prasad'"
   ]
  },
  {
   "cell_type": "code",
   "execution_count": null,
   "metadata": {},
   "outputs": [],
   "source": [
    "# Discuss preliminaries"
   ]
  },
  {
   "cell_type": "code",
   "execution_count": null,
   "metadata": {},
   "outputs": [],
   "source": [
    "# Discuss the GIL"
   ]
  },
  {
   "cell_type": "markdown",
   "metadata": {},
   "source": [
    "On the Global Interpreter Lock [Python 3.8.0 Alpha](https://github.com/python/cpython/blob/e42b705188271da108de42b55d9344642170aa2b/Python/ceval_gil.h)\n"
   ]
  },
  {
   "cell_type": "code",
   "execution_count": null,
   "metadata": {},
   "outputs": [],
   "source": [
    "# Discuss Generators"
   ]
  },
  {
   "cell_type": "code",
   "execution_count": 1,
   "metadata": {},
   "outputs": [
    {
     "data": {
      "text/plain": [
       "<generator object my_range at 0x10f2eebf8>"
      ]
     },
     "execution_count": 1,
     "metadata": {},
     "output_type": "execute_result"
    }
   ],
   "source": [
    "def my_range(n):\n",
    "    i = 0\n",
    "    while i < n:\n",
    "        yield i\n",
    "        i += 1\n",
    "mr = my_range(10)\n",
    "mr"
   ]
  },
  {
   "cell_type": "code",
   "execution_count": 12,
   "metadata": {},
   "outputs": [
    {
     "ename": "StopIteration",
     "evalue": "",
     "output_type": "error",
     "traceback": [
      "\u001b[0;31m---------------------------------------------------------------------------\u001b[0m",
      "\u001b[0;31mStopIteration\u001b[0m                             Traceback (most recent call last)",
      "\u001b[0;32m<ipython-input-12-db31295b5d8a>\u001b[0m in \u001b[0;36m<module>\u001b[0;34m()\u001b[0m\n\u001b[0;32m----> 1\u001b[0;31m \u001b[0mnext\u001b[0m\u001b[0;34m(\u001b[0m\u001b[0mmr\u001b[0m\u001b[0;34m)\u001b[0m\u001b[0;34m\u001b[0m\u001b[0m\n\u001b[0m",
      "\u001b[0;31mStopIteration\u001b[0m: "
     ]
    }
   ],
   "source": [
    "next(mr)"
   ]
  },
  {
   "cell_type": "code",
   "execution_count": 13,
   "metadata": {},
   "outputs": [
    {
     "name": "stdout",
     "output_type": "stream",
     "text": [
      "0\n",
      "1\n",
      "2\n",
      "3\n",
      "4\n",
      "5\n",
      "6\n",
      "7\n",
      "8\n",
      "9\n"
     ]
    },
    {
     "data": {
      "text/plain": [
       "[0, 1, 2, 3, 4, 5, 6, 7, 8, 9]"
      ]
     },
     "execution_count": 13,
     "metadata": {},
     "output_type": "execute_result"
    }
   ],
   "source": [
    "for i in my_range(10):\n",
    "    print(i)\n",
    "l = list(my_range(10))\n",
    "l"
   ]
  },
  {
   "cell_type": "code",
   "execution_count": null,
   "metadata": {},
   "outputs": [],
   "source": [
    "'''\n",
    "# Indispensable for handling database records\n",
    "\n",
    "import psycopg2\n",
    "conn = psycopg2.connect(\"dbname=test user=postgres\")\n",
    "cur = conn.cursor()\n",
    "cur.execute(\"SELECT * FROM test;\")\n",
    "'''"
   ]
  },
  {
   "cell_type": "code",
   "execution_count": null,
   "metadata": {},
   "outputs": [],
   "source": [
    "# Generator pipelining"
   ]
  },
  {
   "cell_type": "code",
   "execution_count": 14,
   "metadata": {},
   "outputs": [],
   "source": [
    "def squared_range(n):\n",
    "    for i in my_range(n):\n",
    "        yield i ** 2\n",
    "sr = squared_range(10)"
   ]
  },
  {
   "cell_type": "code",
   "execution_count": 25,
   "metadata": {},
   "outputs": [
    {
     "ename": "StopIteration",
     "evalue": "",
     "output_type": "error",
     "traceback": [
      "\u001b[0;31m---------------------------------------------------------------------------\u001b[0m",
      "\u001b[0;31mStopIteration\u001b[0m                             Traceback (most recent call last)",
      "\u001b[0;32m<ipython-input-25-d7b9d6852527>\u001b[0m in \u001b[0;36m<module>\u001b[0;34m()\u001b[0m\n\u001b[0;32m----> 1\u001b[0;31m \u001b[0mnext\u001b[0m\u001b[0;34m(\u001b[0m\u001b[0msr\u001b[0m\u001b[0;34m)\u001b[0m\u001b[0;34m\u001b[0m\u001b[0m\n\u001b[0m",
      "\u001b[0;31mStopIteration\u001b[0m: "
     ]
    }
   ],
   "source": [
    "next(sr)"
   ]
  },
  {
   "cell_type": "markdown",
   "metadata": {},
   "source": [
    "[PEP-342](https://www.python.org/dev/peps/pep-0342/) enhances generators to not just produce values, but also to receive them"
   ]
  },
  {
   "cell_type": "code",
   "execution_count": 26,
   "metadata": {},
   "outputs": [],
   "source": [
    "def squared():\n",
    "    while True:\n",
    "        n = yield\n",
    "        print(n ** 2)\n",
    "sqrd = squared()\n",
    "next(sqrd)"
   ]
  },
  {
   "cell_type": "code",
   "execution_count": 27,
   "metadata": {},
   "outputs": [
    {
     "name": "stdout",
     "output_type": "stream",
     "text": [
      "9\n"
     ]
    }
   ],
   "source": [
    "sqrd.send(3)"
   ]
  },
  {
   "cell_type": "code",
   "execution_count": 28,
   "metadata": {},
   "outputs": [
    {
     "name": "stdout",
     "output_type": "stream",
     "text": [
      "16\n"
     ]
    }
   ],
   "source": [
    "sqrd.send(4)"
   ]
  },
  {
   "cell_type": "code",
   "execution_count": 42,
   "metadata": {},
   "outputs": [],
   "source": [
    "def my_range_pipe(n, next_coroutine):\n",
    "    i = 0\n",
    "    while i < n:\n",
    "        yield\n",
    "        next_coroutine.send(i)\n",
    "        i += 1\n",
    "\n",
    "def squared_pipe(next_coroutine):\n",
    "    while True:\n",
    "        n = yield\n",
    "        next_coroutine.send(n ** 2)\n",
    "    \n",
    "def print_sink():\n",
    "    while True:\n",
    "        n = yield\n",
    "        print(n)\n",
    "    \n",
    "sink = print_sink()\n",
    "next(sink)\n",
    "squared = squared_pipe(sink)\n",
    "next(squared)\n",
    "mrp = my_range_pipe(10, squared)\n",
    "next(mrp)"
   ]
  },
  {
   "cell_type": "code",
   "execution_count": 43,
   "metadata": {},
   "outputs": [
    {
     "name": "stdout",
     "output_type": "stream",
     "text": [
      "0\n"
     ]
    }
   ],
   "source": [
    "next(mrp)"
   ]
  },
  {
   "cell_type": "code",
   "execution_count": null,
   "metadata": {},
   "outputs": [],
   "source": [
    "# Coroutines and generalized control flow"
   ]
  },
  {
   "cell_type": "markdown",
   "metadata": {},
   "source": [
    "> Subroutines are special cases of more general program components, called coroutines. In contrast to the unsymmetric relationship between a main routine and a subroutine, there is a complete symmetry between coroutines, which call on each other.\n",
    "\n",
    "Knuth (AoCP Volume 1, 1.4.2)\n"
   ]
  },
  {
   "cell_type": "code",
   "execution_count": null,
   "metadata": {},
   "outputs": [],
   "source": [
    "# Coroutines as tasks/pseudothreads"
   ]
  },
  {
   "cell_type": "code",
   "execution_count": null,
   "metadata": {},
   "outputs": [],
   "source": [
    "# Cooperative Multitasking"
   ]
  },
  {
   "cell_type": "code",
   "execution_count": 44,
   "metadata": {},
   "outputs": [
    {
     "name": "stdout",
     "output_type": "stream",
     "text": [
      "0\n",
      "Finished\n",
      "0\n",
      "0\n",
      "1\n",
      "1\n",
      "4\n",
      "Finished\n",
      "4\n",
      "9\n",
      "16\n",
      "Finished\n"
     ]
    }
   ],
   "source": [
    "sink = print_sink()\n",
    "squared = squared_pipe(sink)\n",
    "mrp1 = my_range_pipe(1, squared)\n",
    "mrp2 = my_range_pipe(3, squared)\n",
    "mrp3 = my_range_pipe(5, squared)\n",
    "next(sink)\n",
    "next(squared)\n",
    "next(mrp1)\n",
    "next(mrp2)\n",
    "next(mrp3)\n",
    "\n",
    "tasks = [mrp1, mrp2, mrp3]\n",
    "\n",
    "def round_robin():\n",
    "    while tasks:\n",
    "        task = tasks.pop(0)\n",
    "        try:\n",
    "            next(task)\n",
    "            tasks.append(task)\n",
    "        except StopIteration:\n",
    "            print('Finished')\n",
    "\n",
    "round_robin()"
   ]
  },
  {
   "cell_type": "code",
   "execution_count": 45,
   "metadata": {},
   "outputs": [
    {
     "name": "stdout",
     "output_type": "stream",
     "text": [
      "0\n",
      "Finished\n",
      "0\n",
      "0\n",
      "1\n",
      "1\n",
      "4\n",
      "Finished\n",
      "4\n",
      "9\n",
      "16\n",
      "Finished\n"
     ]
    }
   ],
   "source": [
    "class Scheduler:\n",
    "    def __init__(self):\n",
    "        self.tasks = []\n",
    "    \n",
    "    def add(self, task):\n",
    "        self.tasks.append(task)\n",
    "        \n",
    "    def join(self):\n",
    "        tasks = self.tasks\n",
    "        while tasks:\n",
    "            task = tasks.pop(0)\n",
    "            try:\n",
    "                next(task)\n",
    "                tasks.append(task)\n",
    "            except StopIteration:\n",
    "                print('Finished')   \n",
    "\n",
    "sink = print_sink()\n",
    "squared = squared_pipe(sink)\n",
    "mrp1 = my_range_pipe(1, squared)\n",
    "mrp2 = my_range_pipe(3, squared)\n",
    "mrp3 = my_range_pipe(5, squared)\n",
    "next(sink)\n",
    "next(squared)\n",
    "next(mrp1)\n",
    "next(mrp2)\n",
    "next(mrp3)\n",
    "\n",
    "s = Scheduler() \n",
    "s.add(mrp1)\n",
    "s.add(mrp2)\n",
    "s.add(mrp3)\n",
    "s.join()"
   ]
  },
  {
   "cell_type": "code",
   "execution_count": 46,
   "metadata": {},
   "outputs": [
    {
     "name": "stdout",
     "output_type": "stream",
     "text": [
      "0\n",
      "0\n",
      "1\n",
      "1\n",
      "4\n",
      "Finished\n",
      "4\n",
      "Finished\n",
      "0\n",
      "1\n",
      "4\n",
      "9\n",
      "16\n",
      "25\n",
      "36\n",
      "Finished\n"
     ]
    }
   ],
   "source": [
    "class Pool:\n",
    "    def __init__(self, pool_size):\n",
    "        self.tasks = []\n",
    "        self.pool_size = pool_size\n",
    "    \n",
    "    def add(self, task):\n",
    "        if self.pool_size > len(self.tasks):\n",
    "            self.tasks.append(task)\n",
    "            self.pool_size += 1\n",
    "        \n",
    "    def join(self):\n",
    "        tasks = self.tasks\n",
    "        while tasks:\n",
    "            task = tasks.pop(0)\n",
    "            try:\n",
    "                next(task)\n",
    "                self.tasks.append(task)\n",
    "            except StopIteration:\n",
    "                print('Finished')\n",
    "\n",
    "class Scheduler:\n",
    "    def __init__(self):\n",
    "        # A task_unit can be a task, a Group, a Pool, etc\n",
    "        self.task_units = []\n",
    "    \n",
    "    def add(self, task_unit):\n",
    "        self.task_units.append(task_unit)\n",
    "        \n",
    "    def join(self):\n",
    "        units = self.task_units\n",
    "        while units:\n",
    "            unit = units.pop(0)\n",
    "            if isinstance(unit, Pool):\n",
    "                unit.join()\n",
    "            else:\n",
    "                try:\n",
    "                    next(unit)\n",
    "                    units.append(unit)\n",
    "                except StopIteration:\n",
    "                    print('Finished') \n",
    "                    \n",
    "sink = print_sink()\n",
    "squared = squared_pipe(sink)\n",
    "mrp1 = my_range_pipe(3, squared)\n",
    "mrp2 = my_range_pipe(3, squared)\n",
    "mrp3 = my_range_pipe(7, squared)\n",
    "next(sink)\n",
    "next(squared)\n",
    "next(mrp1)\n",
    "next(mrp2)\n",
    "next(mrp3)\n",
    "\n",
    "s = Scheduler() \n",
    "p = Pool(2)\n",
    "p.add(mrp1)\n",
    "p.add(mrp2)\n",
    "s.add(p)\n",
    "s.add(mrp3)\n",
    "s.join()"
   ]
  },
  {
   "cell_type": "markdown",
   "metadata": {},
   "source": [
    "Green pseudothreads, or [Greenlets](https://github.com/python-greenlet/greenlet/blob/master/greenlet.c)"
   ]
  },
  {
   "cell_type": "code",
   "execution_count": null,
   "metadata": {},
   "outputs": [],
   "source": [
    "# Cooperative Multitasking to Concurrency"
   ]
  },
  {
   "cell_type": "code",
   "execution_count": 49,
   "metadata": {},
   "outputs": [
    {
     "name": "stdout",
     "output_type": "stream",
     "text": [
      "True\n"
     ]
    }
   ],
   "source": [
    "import socket\n",
    "\n",
    "sock = socket.socket(socket.AF_INET, socket.SOCK_STREAM)\n",
    "sock.connect(('localhost', 1111))\n",
    "\n",
    "data = ('TASK_ONE ' * 1024 ** 2).encode()\n",
    "len_data_sent = sock.send(data)\n",
    "print(len_data_sent == len(data))"
   ]
  },
  {
   "cell_type": "code",
   "execution_count": 50,
   "metadata": {},
   "outputs": [
    {
     "name": "stdout",
     "output_type": "stream",
     "text": [
      "True\n"
     ]
    }
   ],
   "source": [
    "import socket\n",
    "\n",
    "sock = socket.socket(socket.AF_INET, socket.SOCK_STREAM)\n",
    "sock.connect(('localhost', 1112))\n",
    "\n",
    "data = ('task_two ' * 1024 ** 2).encode()\n",
    "len_data_sent = sock.send(data)\n",
    "print(len_data_sent == len(data))"
   ]
  },
  {
   "cell_type": "code",
   "execution_count": null,
   "metadata": {},
   "outputs": [],
   "source": [
    "# Non-blocking sockets"
   ]
  },
  {
   "cell_type": "code",
   "execution_count": 52,
   "metadata": {},
   "outputs": [
    {
     "name": "stdout",
     "output_type": "stream",
     "text": [
      "False\n"
     ]
    }
   ],
   "source": [
    "import socket\n",
    "\n",
    "sock = socket.socket(socket.AF_INET, socket.SOCK_STREAM)\n",
    "sock.connect(('localhost', 1111))\n",
    "sock.setblocking(0) # Now does not wait for I/O to complete\n",
    "\n",
    "data = ('TASK_ONE ' * 1024 ** 2).encode()\n",
    "len_data_sent = sock.send(data)\n",
    "print(len_data_sent == len(data))\n"
   ]
  },
  {
   "cell_type": "code",
   "execution_count": 53,
   "metadata": {},
   "outputs": [
    {
     "name": "stdout",
     "output_type": "stream",
     "text": [
      "0\n"
     ]
    }
   ],
   "source": [
    "import socket\n",
    "import select\n",
    "\n",
    "sock = socket.socket(socket.AF_INET, socket.SOCK_STREAM)\n",
    "sock.connect(('localhost', 1111))\n",
    "sock.setblocking(0)\n",
    "\n",
    "data = ('TASK_ONE ' * 1024 ** 2).encode()\n",
    "\n",
    "while data:\n",
    "    select.select([], [sock], []) # Blocks until sock is free to write to\n",
    "    len_data_sent = sock.send(data)\n",
    "    data = data[len_data_sent:]\n",
    "\n",
    "print(len(data))"
   ]
  },
  {
   "cell_type": "code",
   "execution_count": null,
   "metadata": {},
   "outputs": [],
   "source": [
    "# Concurrent write scheduler"
   ]
  },
  {
   "cell_type": "code",
   "execution_count": 54,
   "metadata": {},
   "outputs": [],
   "source": [
    "from time import sleep \n",
    "\n",
    "class Scheduler:\n",
    "    def __init__(self):\n",
    "        self.tasks = []\n",
    "        self.write_waiting = {} # Maps sockets to tasks\n",
    "    \n",
    "    def add(self, task):\n",
    "        self.tasks.append(task)\n",
    "        \n",
    "    def join(self):\n",
    "        while self.tasks or self.write_waiting:\n",
    "            if self.tasks:\n",
    "                task = self.tasks.pop(0)\n",
    "                try:\n",
    "                    # Coroutines that do I/O now yield the socket they are waiting on\n",
    "                    fd = next(task)\n",
    "                    self.write_waiting[fd] = task\n",
    "                except StopIteration:\n",
    "                    print('Finished')\n",
    "                    \n",
    "            # Poll all waiting sockets and add them back to the task queue\n",
    "            if self.write_waiting:\n",
    "                r, w, e = select.select([],\n",
    "                                        self.write_waiting.keys(),\n",
    "                                        [],\n",
    "                                        0) # Timeout. When zero we poll and do not block.\n",
    "                for freed_fd in w:\n",
    "                    freed_task = self.write_waiting[freed_fd]\n",
    "                    self.write_waiting.pop(freed_fd, None)\n",
    "                    self.tasks.append(freed_task)\n"
   ]
  },
  {
   "cell_type": "code",
   "execution_count": 56,
   "metadata": {
    "scrolled": true
   },
   "outputs": [
    {
     "name": "stdout",
     "output_type": "stream",
     "text": [
      "Finished\n",
      "Finished\n"
     ]
    }
   ],
   "source": [
    "import socket\n",
    "import select\n",
    "\n",
    "def send_msg(port, msg):\n",
    "    sock = socket.socket(socket.AF_INET, socket.SOCK_STREAM)\n",
    "    sock.connect(('localhost', port))\n",
    "    sock.setblocking(0)\n",
    "\n",
    "    data = (msg).encode()\n",
    "\n",
    "    while data:\n",
    "        try:\n",
    "            len_data_sent = sock.send(data)\n",
    "            data = data[len_data_sent:]\n",
    "        except BlockingIOError:\n",
    "            yield (sock.fileno()) # When socket is unwrittable, yield socket fd to scheduler\n",
    "\n",
    "s = Scheduler()\n",
    "t1 = send_msg(1111, 'TASK_ONE ' * 2 * 1024 ** 2)\n",
    "t2 = send_msg(1112, 'task_two ' * 2 * 1024 ** 2)\n",
    "next(t1)\n",
    "next(t2)\n",
    "s.add(t2)\n",
    "s.add(t1)\n",
    "s.join()"
   ]
  },
  {
   "cell_type": "markdown",
   "metadata": {},
   "source": [
    "Farewell to generator-based coroutines.\n",
    "\n",
    "[AsyncIO](https://docs.python.org/3/library/asyncio-task.html#generator-based-coroutines)"
   ]
  },
  {
   "cell_type": "code",
   "execution_count": null,
   "metadata": {},
   "outputs": [],
   "source": [
    "# Mutual Recursion w/ AsyncIO"
   ]
  },
  {
   "cell_type": "markdown",
   "metadata": {},
   "source": [
    "> Co-routines are to state machines what recursion is to stacks\n",
    "\n",
    "Eli Bendersky ('Co-routines as an alternative to state machines')"
   ]
  },
  {
   "cell_type": "code",
   "execution_count": null,
   "metadata": {},
   "outputs": [],
   "source": [
    "# Due diligence\n",
    "email = vishal.prasad@onepeloton.com\n",
    "https://github.com/koreindian # Files will be put here later\n",
    "Pygotham Video up on Youtube.\n",
    "Check out Pygotham 2018 videos on https://pyvideo.org"
   ]
  }
 ],
 "metadata": {
  "kernelspec": {
   "display_name": "Python 3",
   "language": "python",
   "name": "python3"
  },
  "language_info": {
   "codemirror_mode": {
    "name": "ipython",
    "version": 3
   },
   "file_extension": ".py",
   "mimetype": "text/x-python",
   "name": "python",
   "nbconvert_exporter": "python",
   "pygments_lexer": "ipython3",
   "version": "3.6.5"
  }
 },
 "nbformat": 4,
 "nbformat_minor": 2
}
